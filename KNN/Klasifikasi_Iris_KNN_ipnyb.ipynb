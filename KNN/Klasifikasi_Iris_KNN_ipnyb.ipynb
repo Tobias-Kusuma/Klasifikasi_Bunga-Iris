{
  "nbformat": 4,
  "nbformat_minor": 0,
  "metadata": {
    "colab": {
      "provenance": [],
      "toc_visible": true
    },
    "kernelspec": {
      "name": "python3",
      "display_name": "Python 3"
    }
  },
  "cells": [
    {
      "cell_type": "markdown",
      "source": [
        "## **Penyiapan Dataset**"
      ],
      "metadata": {
        "id": "YBQCivB3kQWG"
      }
    },
    {
      "cell_type": "code",
      "source": [
        "# import library\n",
        "import numpy as np\n",
        "import pandas as pd\n",
        "import matplotlib.pyplot as plt\n",
        "import sklearn\n",
        "from sklearn import datasets\n",
        "\n",
        "import seaborn as sns\n",
        "\n",
        "# load dataset\n",
        "iris = datasets.load_iris()\n",
        "\n",
        "# visualisasi dataset\n",
        "df = pd.DataFrame(iris.data, columns = iris.feature_names)\n",
        "df['Target'] = pd.Series(iris.target)\n",
        "print(\"Data Head: \\n\", df.head(), \"\\n\")\n",
        "print(\"Data Distribution: \\n\", df.describe(), \"\\n\")\n",
        "sns.pairplot(df, hue='Target', palette=(\"tab10\"))"
      ],
      "metadata": {
        "id": "5YmM3xLZTy5_"
      },
      "execution_count": null,
      "outputs": []
    },
    {
      "cell_type": "markdown",
      "source": [
        "## **Splitting, Standarisasi, dan Normalisasi Dataset**"
      ],
      "metadata": {
        "id": "OmngfJ9nSOmm"
      }
    },
    {
      "cell_type": "code",
      "source": [
        "# splitting dataset into train-set and test-set\n",
        "from sklearn.model_selection import train_test_split\n",
        "x = iris.data # feature\n",
        "y = iris.target # label (3 kategori: 0, 1, 2)\n",
        "x_train, x_test, y_train, y_test = train_test_split(x, y, test_size=0.3)\n",
        "\n",
        "print(\"x_train: \", x_train.shape)\n",
        "print(\"y_test: \", y_test.shape)\n",
        "print(\"x_test: \", x_test.shape)\n",
        "print(\"y_train: \", y_train.shape)"
      ],
      "metadata": {
        "id": "MsJ9H6r2ZqlT"
      },
      "execution_count": null,
      "outputs": []
    },
    {
      "cell_type": "code",
      "source": [
        "# standarisasi dataset (pemerataan distribusi)\n",
        "from sklearn.preprocessing import StandardScaler\n",
        "\n",
        "scaler = StandardScaler()\n",
        "scaler.fit(x_train)\n",
        "x_train = scaler.transform(x_train)\n",
        "x_test = scaler.transform(x_test)"
      ],
      "metadata": {
        "id": "D3-nPGjOdwm3"
      },
      "execution_count": null,
      "outputs": []
    },
    {
      "cell_type": "code",
      "source": [
        "# normalisasi dataset (mengecilkan/membesarkan jarak antar nilai)\n",
        "from sklearn.preprocessing import Normalizer\n",
        "\n",
        "normalizer = Normalizer().fit(x_train)\n",
        "x_train = normalizer.transform(x_train)\n",
        "x_test = normalizer.transform(x_test)"
      ],
      "metadata": {
        "id": "dLGbD2-FmqTW"
      },
      "execution_count": null,
      "outputs": []
    },
    {
      "cell_type": "markdown",
      "source": [
        "## **Training Model**"
      ],
      "metadata": {
        "id": "RV6LPI27muMa"
      }
    },
    {
      "cell_type": "code",
      "source": [
        "# pengecekan konstanta k-fold\n",
        "# overfitting < k-fold < underfitting\n",
        "# nilai kfold pada umumnya: dataset<100 -> 2-5; dataset=100-200 -> 5-10; dataset>200 -> 10 - 15\n",
        "from sklearn import neighbors\n",
        "\n",
        "error = []\n",
        "for i in range(1, 40):\n",
        "    knn = neighbors.KNeighborsClassifier(n_neighbors = i)\n",
        "    knn.fit(x_train, y_train)\n",
        "\n",
        "    prediction_i = knn.predict(x_test)\n",
        "    error.append(np.mean(prediction_i != y_test))\n",
        "\n",
        "plt.figure()\n",
        "plt.plot(range(1, 40), error, color='red', marker='.', markerfacecolor='blue', markersize=10)\n",
        "plt.xlabel('Nilai K')\n",
        "plt.ylabel('Rata-Rata Error')\n",
        "plt.show()"
      ],
      "metadata": {
        "id": "CWjS6Hx8eRCG"
      },
      "execution_count": null,
      "outputs": []
    },
    {
      "cell_type": "code",
      "source": [
        "# training model dengan n yang sesuai\n",
        "\n",
        "knn = neighbors.KNeighborsClassifier(n_neighbors = 4) # lakukan tuning pada n_neighbors\n",
        "knn.fit(x_train, y_train)"
      ],
      "metadata": {
        "id": "XdT9lSwgfr7L"
      },
      "execution_count": null,
      "outputs": []
    },
    {
      "cell_type": "markdown",
      "source": [
        "## **Uji dan Validasi Model**"
      ],
      "metadata": {
        "id": "-qbdkdJOngIc"
      }
    },
    {
      "cell_type": "code",
      "source": [
        "# uji coba dan evaluasi model menggunakan test_set\n",
        "from sklearn.model_selection import KFold, cross_val_score\n",
        "\n",
        "y_pred = knn.predict(x_test)\n",
        "print(classification_report(y_test, y_pred))\n",
        "\n",
        "print(\"Akurasi: \", round(accuracy_score(y_test, y_pred)*100, 2), \"%\\n\")\n",
        "print(\"Presisi: \", round(precision_score(y_test, y_pred, average='weighted') * 100, 2), \"%\\n\")\n",
        "print(\"Recall : \", round(recall_score(y_test, y_pred, average='weighted') * 100, 2), \"%\\n\")\n",
        "\n",
        "cm = confusion_matrix(y_test, y_pred)\n",
        "ConfusionMatrixDisplay(cm).plot()"
      ],
      "metadata": {
        "id": "AHC5UlmDUl6Z"
      },
      "execution_count": null,
      "outputs": []
    },
    {
      "cell_type": "code",
      "source": [
        "# pengujian dengan K-fold cross-validation\n",
        "\n",
        "scores = (cross_val_score(knn, x, y, cv=5, scoring='accuracy'))*100\n",
        "print(\"Accuracy per fold: \", scores)\n",
        "print(\"Average accuracy : \", round(scores.mean(), 2), \"%\")"
      ],
      "metadata": {
        "id": "-cMUjM7rcA0v"
      },
      "execution_count": null,
      "outputs": []
    }
  ]
}